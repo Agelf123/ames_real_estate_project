{
 "cells": [
  {
   "cell_type": "markdown",
   "metadata": {},
   "source": [
    "# Predicting Sale Prices for Ames Iowa Housing Dataset\n",
    "By: Aryeh Gelfand(https://git.generalassemb.ly/aryehgelfand)"
   ]
  },
  {
   "cell_type": "markdown",
   "metadata": {},
   "source": [
    "## Problem Statement"
   ]
  },
  {
   "cell_type": "markdown",
   "metadata": {},
   "source": [
    "I have been hired by the Ames Iowa Organization of Real Estate Agents in order to help them create better pricing models. Right now, they are using primitive comparative pricing metrics that aren't fit to the data available for the town.\n",
    "We have a dataset curated by Dr.Dean De Cock, a professor at Truman State University, that tracks 2051 real estate transactions that took place between 2006 and 2010 with 81 characteristics. We have been hired to create better price modeling for these real estate agents in order to help them add value to thier clients.\n",
    "\n",
    "The plan is to use this data set to train a model that can accurately predict pricing, the metric we are using for success is Root Mean Squared Error, we will see how low we can get our it.\n",
    "* We will start by evaluating our features \n",
    "* Searching the dataframe for missing data\n",
    "* filling in missing data with proportional data points\n",
    "* generating new interaction terms\n",
    "* Training Linear Regression, LR with Ridge regularization and LASSO Regularization.\n",
    "* Then we will evaluate the models and choose the one with the lowest RMSE\n",
    "\n"
   ]
  },
  {
   "cell_type": "markdown",
   "metadata": {},
   "source": [
    "##  Executive Summary"
   ]
  },
  {
   "cell_type": "markdown",
   "metadata": {},
   "source": [
    "#### Data Cleaning\n",
    "This resulted in a large amount of null values. We also changed  values proportional to the values that we had. \n",
    "Then we changed categorical values that were ordinal to integer values. We also created dummy columns.\n",
    "\n",
    "##### EDA\n",
    "We got the features with the top correlation coefficient and made interaction terms with them. Then made pair plots of these top performing features. \n",
    "We also engineered 12 new features based on categories likely to be related. Then we checked the correlation for these new values and scored them.\n",
    "\n",
    "#### Modeling\n",
    "We split the data into train and test values\n",
    "\n",
    "#### Baseline\n",
    "The baseline resulted in a model with a RMSE of 79K. \n",
    "\n",
    "#### LInear regression\n",
    "The training scores were significantly better than the testing scores and is therefore overfit.\n",
    "Traing RMSE was 20882\n",
    "Testing RMSE was 23409\n",
    "\n",
    "#### Ridge\n",
    "The regularization helped lower the error, we also used Ridge_CV to find the optimized Alpha at 10\n",
    "Training RMSE is 20996\n",
    "Testing RMSE 22118\n",
    "\n",
    "#### LASSSO\n",
    "The regularization didnt help as much, but still resulted in a better score than LR\n",
    "Training was 20881\n",
    "Testing was 22981\n",
    "\n",
    "#### Model Selection\n",
    "We selected the ridge model with an alpha of 10, because it resulted in the lowest RMSE\n",
    "\n",
    "#### Model Evaluation\n",
    "We used three graphs to evaluate the model.\n",
    "* A error distribution that proved that the erros have a normal distribution\n",
    "* A residual plot that showed a mean of 0\n",
    "* A Predicton vs True plot that showed homoskedasticity of errors\n",
    "\n",
    "#### Conclusions and Recommedation\n",
    "\n",
    "* When making models for the future, focus on subjective metrics like Overall Qual, Ext Quality, and Overal Cond, these have more of an effect than objective metrics like number of bedrooms or baths.\n",
    "* Also, the strategy of creating a lot of interaction columns and dummy variables and then using regularizatioin to scale it back has been succesfull and should be replicated.\n",
    "* The missing data strategy was also successful but has to be done in conjunction with the data dictionary.\n",
    "* Eliminate outliers in the target variable as these can cause the distribution to become skewed. This will result in in accurate predictions\n",
    "\n",
    "\n",
    "\n",
    "\n"
   ]
  },
  {
   "cell_type": "markdown",
   "metadata": {},
   "source": [
    "# Table of Contents\n",
    "1. [Loading Data]()\n",
    "2. [Data Cleaning](#example2)\n",
    "3. [EDA](#third-example)\n",
    "4. [Modeling](#fourth-examplehttpwwwfourthexamplecom)\n",
    "5. [Baseline ](#fourth-examplehttpwwwfourthexamplecom)\n",
    "6. [Linear Regression ](#fourth-examplehttpwwwfourthexamplecom)\n",
    "7. [Ridge ](#fourth-examplehttpwwwfourthexamplecom)\n",
    "8. [LASSO ](#fourth-examplehttpwwwfourthexamplecom)\n",
    "9. [Model Selection ](#fourth-examplehttpwwwfourthexamplecom)\n",
    "10. [Model Evaluation](#fourth-examplehttpwwwfourthexamplecom)\n",
    "11. [Conclusions/Recommendations](#fourth-examplehttpwwwfourthexamplecom)\n",
    "12. [References](#fourth-examplehttpwwwfourthexamplecom)\n",
    "\n",
    "\n",
    "\n"
   ]
  },
  {
   "cell_type": "markdown",
   "metadata": {},
   "source": [
    "## Loading Data"
   ]
  },
  {
   "cell_type": "code",
   "execution_count": 1,
   "metadata": {},
   "outputs": [],
   "source": [
    "import warnings\n",
    "warnings.filterwarnings(\"ignore\") # Shhhh\n",
    "import numpy as np\n",
    "import pandas as pd\n",
    "import seaborn as sns\n",
    "import matplotlib.pyplot as plt\n",
    "from sklearn.linear_model import LinearRegression\n",
    "from sklearn.model_selection import train_test_split,cross_val_score\n",
    "from sklearn.metrics import mean_squared_error\n",
    "from sklearn.preprocessing import StandardScaler, PolynomialFeatures\n",
    "from sklearn.linear_model import Ridge\n",
    "from sklearn.linear_model import RidgeCV\n",
    "from sklearn.linear_model import Lasso, LassoCV, MultiTaskLassoCV\n",
    "from scipy import stats\n",
    "\n",
    "RANDOM_STATE  = 123"
   ]
  },
  {
   "cell_type": "code",
   "execution_count": 2,
   "metadata": {},
   "outputs": [],
   "source": [
    "data = pd.read_csv(\"../datasets/train.csv\")# train_csv this is dataset"
   ]
  },
  {
   "cell_type": "code",
   "execution_count": 3,
   "metadata": {},
   "outputs": [],
   "source": [
    "train = list(data.columns)\n"
   ]
  },
  {
   "cell_type": "code",
   "execution_count": 4,
   "metadata": {},
   "outputs": [
    {
     "data": {
      "text/plain": [
       "(2051, 81)"
      ]
     },
     "execution_count": 4,
     "metadata": {},
     "output_type": "execute_result"
    }
   ],
   "source": [
    "data.shape"
   ]
  },
  {
   "cell_type": "markdown",
   "metadata": {},
   "source": [
    "# Data Cleaning"
   ]
  },
  {
   "cell_type": "code",
   "execution_count": 5,
   "metadata": {},
   "outputs": [],
   "source": [
    "def missing_values_table(df):\n",
    "        mis_val = df.isnull().sum()# counts null values\n",
    "        mis_val_percent = 100 * df.isnull().sum() / len(df)# get percentage null per colimn\n",
    "        mis_val_table = pd.concat([mis_val, mis_val_percent], axis=1)# concats those columns together\n",
    "        mis_val_table_ren_columns = mis_val_table.rename(# renames columns\n",
    "        columns = {0 : 'Missing Values', 1 : '% of Total Values'})\n",
    "        mis_val_table_ren_columns = mis_val_table_ren_columns[\n",
    "            mis_val_table_ren_columns.iloc[:,1] != 0].sort_values(# sorts by ascending\n",
    "        '% of Total Values', ascending=False).round(1)\n",
    "        print (\"Your selected dataframe has \" + str(df.shape[1]) + \" columns.\\n\"      \n",
    "            \"There are \" + str(mis_val_table_ren_columns.shape[0]) +\n",
    "              \" columns that have missing values.\")\n",
    "        return mis_val_table_ren_columns# prints datframe with columns and percentage missing\n",
    "# took this function from stack overflow https://stackoverflow.com/questions/26266362/how-to-count-the-nan-values-in-a-column-in-pandas-dataframe"
   ]
  },
  {
   "cell_type": "code",
   "execution_count": 6,
   "metadata": {},
   "outputs": [
    {
     "name": "stdout",
     "output_type": "stream",
     "text": [
      "Your selected dataframe has 81 columns.\n",
      "There are 26 columns that have missing values.\n"
     ]
    },
    {
     "data": {
      "text/html": [
       "<div>\n",
       "<style scoped>\n",
       "    .dataframe tbody tr th:only-of-type {\n",
       "        vertical-align: middle;\n",
       "    }\n",
       "\n",
       "    .dataframe tbody tr th {\n",
       "        vertical-align: top;\n",
       "    }\n",
       "\n",
       "    .dataframe thead th {\n",
       "        text-align: right;\n",
       "    }\n",
       "</style>\n",
       "<table border=\"1\" class=\"dataframe\">\n",
       "  <thead>\n",
       "    <tr style=\"text-align: right;\">\n",
       "      <th></th>\n",
       "      <th>Missing Values</th>\n",
       "      <th>% of Total Values</th>\n",
       "    </tr>\n",
       "  </thead>\n",
       "  <tbody>\n",
       "    <tr>\n",
       "      <th>Pool QC</th>\n",
       "      <td>2042</td>\n",
       "      <td>99.6</td>\n",
       "    </tr>\n",
       "    <tr>\n",
       "      <th>Misc Feature</th>\n",
       "      <td>1986</td>\n",
       "      <td>96.8</td>\n",
       "    </tr>\n",
       "    <tr>\n",
       "      <th>Alley</th>\n",
       "      <td>1911</td>\n",
       "      <td>93.2</td>\n",
       "    </tr>\n",
       "    <tr>\n",
       "      <th>Fence</th>\n",
       "      <td>1651</td>\n",
       "      <td>80.5</td>\n",
       "    </tr>\n",
       "    <tr>\n",
       "      <th>Fireplace Qu</th>\n",
       "      <td>1000</td>\n",
       "      <td>48.8</td>\n",
       "    </tr>\n",
       "    <tr>\n",
       "      <th>Lot Frontage</th>\n",
       "      <td>330</td>\n",
       "      <td>16.1</td>\n",
       "    </tr>\n",
       "    <tr>\n",
       "      <th>Garage Yr Blt</th>\n",
       "      <td>114</td>\n",
       "      <td>5.6</td>\n",
       "    </tr>\n",
       "    <tr>\n",
       "      <th>Garage Cond</th>\n",
       "      <td>114</td>\n",
       "      <td>5.6</td>\n",
       "    </tr>\n",
       "    <tr>\n",
       "      <th>Garage Qual</th>\n",
       "      <td>114</td>\n",
       "      <td>5.6</td>\n",
       "    </tr>\n",
       "    <tr>\n",
       "      <th>Garage Finish</th>\n",
       "      <td>114</td>\n",
       "      <td>5.6</td>\n",
       "    </tr>\n",
       "    <tr>\n",
       "      <th>Garage Type</th>\n",
       "      <td>113</td>\n",
       "      <td>5.5</td>\n",
       "    </tr>\n",
       "    <tr>\n",
       "      <th>Bsmt Exposure</th>\n",
       "      <td>58</td>\n",
       "      <td>2.8</td>\n",
       "    </tr>\n",
       "    <tr>\n",
       "      <th>BsmtFin Type 2</th>\n",
       "      <td>56</td>\n",
       "      <td>2.7</td>\n",
       "    </tr>\n",
       "    <tr>\n",
       "      <th>Bsmt Cond</th>\n",
       "      <td>55</td>\n",
       "      <td>2.7</td>\n",
       "    </tr>\n",
       "    <tr>\n",
       "      <th>Bsmt Qual</th>\n",
       "      <td>55</td>\n",
       "      <td>2.7</td>\n",
       "    </tr>\n",
       "    <tr>\n",
       "      <th>BsmtFin Type 1</th>\n",
       "      <td>55</td>\n",
       "      <td>2.7</td>\n",
       "    </tr>\n",
       "    <tr>\n",
       "      <th>Mas Vnr Area</th>\n",
       "      <td>22</td>\n",
       "      <td>1.1</td>\n",
       "    </tr>\n",
       "    <tr>\n",
       "      <th>Mas Vnr Type</th>\n",
       "      <td>22</td>\n",
       "      <td>1.1</td>\n",
       "    </tr>\n",
       "    <tr>\n",
       "      <th>Bsmt Half Bath</th>\n",
       "      <td>2</td>\n",
       "      <td>0.1</td>\n",
       "    </tr>\n",
       "    <tr>\n",
       "      <th>Bsmt Full Bath</th>\n",
       "      <td>2</td>\n",
       "      <td>0.1</td>\n",
       "    </tr>\n",
       "    <tr>\n",
       "      <th>Total Bsmt SF</th>\n",
       "      <td>1</td>\n",
       "      <td>0.0</td>\n",
       "    </tr>\n",
       "    <tr>\n",
       "      <th>Bsmt Unf SF</th>\n",
       "      <td>1</td>\n",
       "      <td>0.0</td>\n",
       "    </tr>\n",
       "    <tr>\n",
       "      <th>BsmtFin SF 2</th>\n",
       "      <td>1</td>\n",
       "      <td>0.0</td>\n",
       "    </tr>\n",
       "    <tr>\n",
       "      <th>Garage Cars</th>\n",
       "      <td>1</td>\n",
       "      <td>0.0</td>\n",
       "    </tr>\n",
       "    <tr>\n",
       "      <th>Garage Area</th>\n",
       "      <td>1</td>\n",
       "      <td>0.0</td>\n",
       "    </tr>\n",
       "    <tr>\n",
       "      <th>BsmtFin SF 1</th>\n",
       "      <td>1</td>\n",
       "      <td>0.0</td>\n",
       "    </tr>\n",
       "  </tbody>\n",
       "</table>\n",
       "</div>"
      ],
      "text/plain": [
       "                Missing Values  % of Total Values\n",
       "Pool QC                   2042               99.6\n",
       "Misc Feature              1986               96.8\n",
       "Alley                     1911               93.2\n",
       "Fence                     1651               80.5\n",
       "Fireplace Qu              1000               48.8\n",
       "Lot Frontage               330               16.1\n",
       "Garage Yr Blt              114                5.6\n",
       "Garage Cond                114                5.6\n",
       "Garage Qual                114                5.6\n",
       "Garage Finish              114                5.6\n",
       "Garage Type                113                5.5\n",
       "Bsmt Exposure               58                2.8\n",
       "BsmtFin Type 2              56                2.7\n",
       "Bsmt Cond                   55                2.7\n",
       "Bsmt Qual                   55                2.7\n",
       "BsmtFin Type 1              55                2.7\n",
       "Mas Vnr Area                22                1.1\n",
       "Mas Vnr Type                22                1.1\n",
       "Bsmt Half Bath               2                0.1\n",
       "Bsmt Full Bath               2                0.1\n",
       "Total Bsmt SF                1                0.0\n",
       "Bsmt Unf SF                  1                0.0\n",
       "BsmtFin SF 2                 1                0.0\n",
       "Garage Cars                  1                0.0\n",
       "Garage Area                  1                0.0\n",
       "BsmtFin SF 1                 1                0.0"
      ]
     },
     "execution_count": 6,
     "metadata": {},
     "output_type": "execute_result"
    }
   ],
   "source": [
    "missing_values_table(data)# counts nulls by columns and percentage null"
   ]
  },
  {
   "cell_type": "code",
   "execution_count": 7,
   "metadata": {},
   "outputs": [
    {
     "data": {
      "text/plain": [
       "(2051, 81)"
      ]
     },
     "execution_count": 7,
     "metadata": {},
     "output_type": "execute_result"
    }
   ],
   "source": [
    "data.shape"
   ]
  },
  {
   "cell_type": "code",
   "execution_count": 8,
   "metadata": {},
   "outputs": [
    {
     "data": {
      "text/html": [
       "<div>\n",
       "<style scoped>\n",
       "    .dataframe tbody tr th:only-of-type {\n",
       "        vertical-align: middle;\n",
       "    }\n",
       "\n",
       "    .dataframe tbody tr th {\n",
       "        vertical-align: top;\n",
       "    }\n",
       "\n",
       "    .dataframe thead th {\n",
       "        text-align: right;\n",
       "    }\n",
       "</style>\n",
       "<table border=\"1\" class=\"dataframe\">\n",
       "  <thead>\n",
       "    <tr style=\"text-align: right;\">\n",
       "      <th></th>\n",
       "      <th>Id</th>\n",
       "      <th>PID</th>\n",
       "      <th>MS SubClass</th>\n",
       "      <th>Lot Frontage</th>\n",
       "      <th>Lot Area</th>\n",
       "      <th>Overall Qual</th>\n",
       "      <th>Overall Cond</th>\n",
       "      <th>Year Built</th>\n",
       "      <th>Year Remod/Add</th>\n",
       "      <th>Mas Vnr Area</th>\n",
       "      <th>...</th>\n",
       "      <th>Wood Deck SF</th>\n",
       "      <th>Open Porch SF</th>\n",
       "      <th>Enclosed Porch</th>\n",
       "      <th>3Ssn Porch</th>\n",
       "      <th>Screen Porch</th>\n",
       "      <th>Pool Area</th>\n",
       "      <th>Misc Val</th>\n",
       "      <th>Mo Sold</th>\n",
       "      <th>Yr Sold</th>\n",
       "      <th>SalePrice</th>\n",
       "    </tr>\n",
       "  </thead>\n",
       "  <tbody>\n",
       "    <tr>\n",
       "      <th>count</th>\n",
       "      <td>2051.000000</td>\n",
       "      <td>2.051000e+03</td>\n",
       "      <td>2051.000000</td>\n",
       "      <td>1721.000000</td>\n",
       "      <td>2051.000000</td>\n",
       "      <td>2051.000000</td>\n",
       "      <td>2051.000000</td>\n",
       "      <td>2051.000000</td>\n",
       "      <td>2051.000000</td>\n",
       "      <td>2029.000000</td>\n",
       "      <td>...</td>\n",
       "      <td>2051.000000</td>\n",
       "      <td>2051.000000</td>\n",
       "      <td>2051.000000</td>\n",
       "      <td>2051.000000</td>\n",
       "      <td>2051.000000</td>\n",
       "      <td>2051.000000</td>\n",
       "      <td>2051.000000</td>\n",
       "      <td>2051.000000</td>\n",
       "      <td>2051.000000</td>\n",
       "      <td>2051.000000</td>\n",
       "    </tr>\n",
       "    <tr>\n",
       "      <th>mean</th>\n",
       "      <td>1474.033642</td>\n",
       "      <td>7.135900e+08</td>\n",
       "      <td>57.008776</td>\n",
       "      <td>69.055200</td>\n",
       "      <td>10065.208191</td>\n",
       "      <td>6.112140</td>\n",
       "      <td>5.562165</td>\n",
       "      <td>1971.708922</td>\n",
       "      <td>1984.190151</td>\n",
       "      <td>99.695909</td>\n",
       "      <td>...</td>\n",
       "      <td>93.833740</td>\n",
       "      <td>47.556802</td>\n",
       "      <td>22.571916</td>\n",
       "      <td>2.591419</td>\n",
       "      <td>16.511458</td>\n",
       "      <td>2.397855</td>\n",
       "      <td>51.574354</td>\n",
       "      <td>6.219893</td>\n",
       "      <td>2007.775719</td>\n",
       "      <td>181469.701609</td>\n",
       "    </tr>\n",
       "    <tr>\n",
       "      <th>std</th>\n",
       "      <td>843.980841</td>\n",
       "      <td>1.886918e+08</td>\n",
       "      <td>42.824223</td>\n",
       "      <td>23.260653</td>\n",
       "      <td>6742.488909</td>\n",
       "      <td>1.426271</td>\n",
       "      <td>1.104497</td>\n",
       "      <td>30.177889</td>\n",
       "      <td>21.036250</td>\n",
       "      <td>174.963129</td>\n",
       "      <td>...</td>\n",
       "      <td>128.549416</td>\n",
       "      <td>66.747241</td>\n",
       "      <td>59.845110</td>\n",
       "      <td>25.229615</td>\n",
       "      <td>57.374204</td>\n",
       "      <td>37.782570</td>\n",
       "      <td>573.393985</td>\n",
       "      <td>2.744736</td>\n",
       "      <td>1.312014</td>\n",
       "      <td>79258.659352</td>\n",
       "    </tr>\n",
       "    <tr>\n",
       "      <th>min</th>\n",
       "      <td>1.000000</td>\n",
       "      <td>5.263011e+08</td>\n",
       "      <td>20.000000</td>\n",
       "      <td>21.000000</td>\n",
       "      <td>1300.000000</td>\n",
       "      <td>1.000000</td>\n",
       "      <td>1.000000</td>\n",
       "      <td>1872.000000</td>\n",
       "      <td>1950.000000</td>\n",
       "      <td>0.000000</td>\n",
       "      <td>...</td>\n",
       "      <td>0.000000</td>\n",
       "      <td>0.000000</td>\n",
       "      <td>0.000000</td>\n",
       "      <td>0.000000</td>\n",
       "      <td>0.000000</td>\n",
       "      <td>0.000000</td>\n",
       "      <td>0.000000</td>\n",
       "      <td>1.000000</td>\n",
       "      <td>2006.000000</td>\n",
       "      <td>12789.000000</td>\n",
       "    </tr>\n",
       "    <tr>\n",
       "      <th>25%</th>\n",
       "      <td>753.500000</td>\n",
       "      <td>5.284581e+08</td>\n",
       "      <td>20.000000</td>\n",
       "      <td>58.000000</td>\n",
       "      <td>7500.000000</td>\n",
       "      <td>5.000000</td>\n",
       "      <td>5.000000</td>\n",
       "      <td>1953.500000</td>\n",
       "      <td>1964.500000</td>\n",
       "      <td>0.000000</td>\n",
       "      <td>...</td>\n",
       "      <td>0.000000</td>\n",
       "      <td>0.000000</td>\n",
       "      <td>0.000000</td>\n",
       "      <td>0.000000</td>\n",
       "      <td>0.000000</td>\n",
       "      <td>0.000000</td>\n",
       "      <td>0.000000</td>\n",
       "      <td>4.000000</td>\n",
       "      <td>2007.000000</td>\n",
       "      <td>129825.000000</td>\n",
       "    </tr>\n",
       "    <tr>\n",
       "      <th>50%</th>\n",
       "      <td>1486.000000</td>\n",
       "      <td>5.354532e+08</td>\n",
       "      <td>50.000000</td>\n",
       "      <td>68.000000</td>\n",
       "      <td>9430.000000</td>\n",
       "      <td>6.000000</td>\n",
       "      <td>5.000000</td>\n",
       "      <td>1974.000000</td>\n",
       "      <td>1993.000000</td>\n",
       "      <td>0.000000</td>\n",
       "      <td>...</td>\n",
       "      <td>0.000000</td>\n",
       "      <td>27.000000</td>\n",
       "      <td>0.000000</td>\n",
       "      <td>0.000000</td>\n",
       "      <td>0.000000</td>\n",
       "      <td>0.000000</td>\n",
       "      <td>0.000000</td>\n",
       "      <td>6.000000</td>\n",
       "      <td>2008.000000</td>\n",
       "      <td>162500.000000</td>\n",
       "    </tr>\n",
       "    <tr>\n",
       "      <th>75%</th>\n",
       "      <td>2198.000000</td>\n",
       "      <td>9.071801e+08</td>\n",
       "      <td>70.000000</td>\n",
       "      <td>80.000000</td>\n",
       "      <td>11513.500000</td>\n",
       "      <td>7.000000</td>\n",
       "      <td>6.000000</td>\n",
       "      <td>2001.000000</td>\n",
       "      <td>2004.000000</td>\n",
       "      <td>161.000000</td>\n",
       "      <td>...</td>\n",
       "      <td>168.000000</td>\n",
       "      <td>70.000000</td>\n",
       "      <td>0.000000</td>\n",
       "      <td>0.000000</td>\n",
       "      <td>0.000000</td>\n",
       "      <td>0.000000</td>\n",
       "      <td>0.000000</td>\n",
       "      <td>8.000000</td>\n",
       "      <td>2009.000000</td>\n",
       "      <td>214000.000000</td>\n",
       "    </tr>\n",
       "    <tr>\n",
       "      <th>max</th>\n",
       "      <td>2930.000000</td>\n",
       "      <td>9.241520e+08</td>\n",
       "      <td>190.000000</td>\n",
       "      <td>313.000000</td>\n",
       "      <td>159000.000000</td>\n",
       "      <td>10.000000</td>\n",
       "      <td>9.000000</td>\n",
       "      <td>2010.000000</td>\n",
       "      <td>2010.000000</td>\n",
       "      <td>1600.000000</td>\n",
       "      <td>...</td>\n",
       "      <td>1424.000000</td>\n",
       "      <td>547.000000</td>\n",
       "      <td>432.000000</td>\n",
       "      <td>508.000000</td>\n",
       "      <td>490.000000</td>\n",
       "      <td>800.000000</td>\n",
       "      <td>17000.000000</td>\n",
       "      <td>12.000000</td>\n",
       "      <td>2010.000000</td>\n",
       "      <td>611657.000000</td>\n",
       "    </tr>\n",
       "  </tbody>\n",
       "</table>\n",
       "<p>8 rows × 39 columns</p>\n",
       "</div>"
      ],
      "text/plain": [
       "                Id           PID  MS SubClass  Lot Frontage       Lot Area  \\\n",
       "count  2051.000000  2.051000e+03  2051.000000   1721.000000    2051.000000   \n",
       "mean   1474.033642  7.135900e+08    57.008776     69.055200   10065.208191   \n",
       "std     843.980841  1.886918e+08    42.824223     23.260653    6742.488909   \n",
       "min       1.000000  5.263011e+08    20.000000     21.000000    1300.000000   \n",
       "25%     753.500000  5.284581e+08    20.000000     58.000000    7500.000000   \n",
       "50%    1486.000000  5.354532e+08    50.000000     68.000000    9430.000000   \n",
       "75%    2198.000000  9.071801e+08    70.000000     80.000000   11513.500000   \n",
       "max    2930.000000  9.241520e+08   190.000000    313.000000  159000.000000   \n",
       "\n",
       "       Overall Qual  Overall Cond   Year Built  Year Remod/Add  Mas Vnr Area  \\\n",
       "count   2051.000000   2051.000000  2051.000000     2051.000000   2029.000000   \n",
       "mean       6.112140      5.562165  1971.708922     1984.190151     99.695909   \n",
       "std        1.426271      1.104497    30.177889       21.036250    174.963129   \n",
       "min        1.000000      1.000000  1872.000000     1950.000000      0.000000   \n",
       "25%        5.000000      5.000000  1953.500000     1964.500000      0.000000   \n",
       "50%        6.000000      5.000000  1974.000000     1993.000000      0.000000   \n",
       "75%        7.000000      6.000000  2001.000000     2004.000000    161.000000   \n",
       "max       10.000000      9.000000  2010.000000     2010.000000   1600.000000   \n",
       "\n",
       "       ...  Wood Deck SF  Open Porch SF  Enclosed Porch   3Ssn Porch  \\\n",
       "count  ...   2051.000000    2051.000000     2051.000000  2051.000000   \n",
       "mean   ...     93.833740      47.556802       22.571916     2.591419   \n",
       "std    ...    128.549416      66.747241       59.845110    25.229615   \n",
       "min    ...      0.000000       0.000000        0.000000     0.000000   \n",
       "25%    ...      0.000000       0.000000        0.000000     0.000000   \n",
       "50%    ...      0.000000      27.000000        0.000000     0.000000   \n",
       "75%    ...    168.000000      70.000000        0.000000     0.000000   \n",
       "max    ...   1424.000000     547.000000      432.000000   508.000000   \n",
       "\n",
       "       Screen Porch    Pool Area      Misc Val      Mo Sold      Yr Sold  \\\n",
       "count   2051.000000  2051.000000   2051.000000  2051.000000  2051.000000   \n",
       "mean      16.511458     2.397855     51.574354     6.219893  2007.775719   \n",
       "std       57.374204    37.782570    573.393985     2.744736     1.312014   \n",
       "min        0.000000     0.000000      0.000000     1.000000  2006.000000   \n",
       "25%        0.000000     0.000000      0.000000     4.000000  2007.000000   \n",
       "50%        0.000000     0.000000      0.000000     6.000000  2008.000000   \n",
       "75%        0.000000     0.000000      0.000000     8.000000  2009.000000   \n",
       "max      490.000000   800.000000  17000.000000    12.000000  2010.000000   \n",
       "\n",
       "           SalePrice  \n",
       "count    2051.000000  \n",
       "mean   181469.701609  \n",
       "std     79258.659352  \n",
       "min     12789.000000  \n",
       "25%    129825.000000  \n",
       "50%    162500.000000  \n",
       "75%    214000.000000  \n",
       "max    611657.000000  \n",
       "\n",
       "[8 rows x 39 columns]"
      ]
     },
     "execution_count": 8,
     "metadata": {},
     "output_type": "execute_result"
    }
   ],
   "source": [
    "data.describe()"
   ]
  },
  {
   "cell_type": "markdown",
   "metadata": {},
   "source": [
    "Data looks normal as far as I can tell at this stage."
   ]
  },
  {
   "cell_type": "code",
   "execution_count": 9,
   "metadata": {},
   "outputs": [],
   "source": [
    " # Dropping columns missing 48% or more values\n",
    "\n",
    "data['Lot Frontage'].fillna(data['Lot Frontage'].mean(),inplace = True)# fill missing lot frontage wth mean value\n",
    "\n",
    "\n",
    "\n",
    "data.replace({'Ex': 5,'Gd' : 4,'Ta': 3,'Fa': 2,'Po':1,'Na':0,'TA':3},inplace=True)\n",
    "\n",
    "data.replace({'GLQ': 6,'ALQ' : 5,'BLQ': 4,'Rec': 3,'LWQ':2,'LwQ':2,'Unf':1,'NA':0},inplace=True)\n",
    "\n",
    "data.replace({'Y': 4,'Av' : 3,'Mn': 2,'No': 1,'NA':0},inplace=True)\n",
    "\n",
    "data.replace({'Gd': 4,'Av' : 3,'Mn': 2,'No': 1,'NA':0},inplace=True)# replacing ordinal categorical values\n",
    "\n",
    "data.replace({'Fin': 4,'RFn' : 3,'Unf': 2,'NA':0},inplace=True)\n",
    "\n",
    "data.replace({'2Types': 4,'Detchd' : 3,'Basment': 2,'BuiltIn': 2,'Attchd':2,'CarPort':1,'NA':0},inplace=True)\n",
    "\n",
    "data.replace({'SBrkr':3,'FuseA':2,'FuseF':1,'FuseP':1,'Mix':2},inplace=True)   \n",
    "\n",
    "data['Street'].replace({'Grvl':2,'Pave':1,'NA':0})\n",
    "\n",
    "data.replace({'Y':2,'P':1,'N':0},inplace=True)# replacing ordinal categorical values\n",
    "\n",
    "\n",
    "\n",
    "data.replace({'Ex':4,'Gd':3,'TA':2,'Fa':1,'NA':0},inplace=True)\n",
    "\n",
    "data['Land Slope'].replace({'Gtl':3,'Mod':2,'Sev':1},inplace=True)\n",
    "data['Lot Shape'].replace({'Reg':4,'IR1':3,'IR2':2,'IR3':1},inplace=True)\n",
    "\n",
    "data['Utilities'].replace({'AllPub':2,'NoSewr':0,'NoSeWa':0},inplace=True)\n",
    "\n",
    "data['Functional'].replace({'Min2':2,'Min1':2,'Mod':1,'Maj1':0,'Maj2':0},inplace=True)# replacing ordinal categorical values\n",
    "\n",
    "\n",
    "data.replace({'Norm':2,'Feedr':1,'Artery':0,'RRAn':0,'PosN':3,'PosA':3,'RRAe':0,'RRNn':0,'RRNe':0},inplace=True)\n",
    "data.replace({'1Fam':3,'TwnhsE':1,'Duplex':1,'Twnhs':1,'2fmCon':1},inplace=True)\n",
    "data['Pool QC'].fillna(0,inplace=True)\n",
    "\n",
    "data['Misc Feature'].replace({'Elev':3,'Gar2':3,'Othr':1,'Shed':1,'TenC':2},inplace=True)\n",
    "\n",
    "data['Alley'].replace({'Grvl':1,'Pave':2},inplace=True)# replacing ordinal categorical values\n",
    "\n",
    "\n",
    "\n",
    "\n",
    "\n",
    "data['Alley'].fillna(0,inplace=True)# filling houses with no alley\n",
    "data['Fireplace Qu'].fillna(0,inplace=True)# fillinghouses with no fireplace\n",
    "\n",
    "data['Misc Feature'].fillna(0,inplace=True)\n",
    "\n",
    "data.replace({'GdPrv':3,'MnPrv':1,'GdWo':2,'MnWw':1,'NA':0})\n",
    "data['Fence'].fillna(0,inplace=True)# filling in properties with no fence\n",
    "\n",
    "dummy_list = ['MS Zoning','Land Contour','Lot Config','Neighborhood','Condition 1','Condition 2','House Style','Roof Style','Roof Matl','Exterior 1st','Exterior 2nd','Mas Vnr Type','Foundation','Heating','Sale Type']\n",
    "def fill_na(data,col):\n",
    "    dict_1 = dict(data[col].value_counts(normalize = True))# get normalized value counts in a dictionary\n",
    "    keys = list(dict_1.keys())\n",
    "    values = list(dict_1.values())\n",
    "    for k,v in dict_1.items():\n",
    "        data[col] = data[col].fillna(pd.Series(np.random.choice(keys,p=values, size=len(data))))# fills in nulls with proportional values\n",
    "\n",
    "fill_na(data,'Garage Cond')\n",
    "fill_na(data,'Garage Type')\n",
    "fill_na(data,'Garage Qual')\n",
    "fill_na(data,'Garage Finish')\n",
    "fill_na(data, 'Garage Yr Blt')\n",
    "fill_na(data,'Bsmt Exposure')\n",
    "fill_na(data,'BsmtFin Type 2')\n",
    "fill_na(data,'Bsmt Qual')\n",
    "fill_na(data,'Bsmt Cond')\n",
    "\n",
    "fill_na(data,'BsmtFin Type 1')\n",
    "fill_na(data,'Mas Vnr Type')\n",
    "fill_na(data,'Mas Vnr Area')\n",
    "fill_na(data,'Bsmt Full Bath')\n",
    "fill_na(data,'Bsmt Half Bath')\n",
    "fill_na(data,'BsmtFin SF 1')\n",
    "fill_na(data,'BsmtFin SF 2')\n",
    "fill_na(data,'Bsmt Unf SF')\n",
    "fill_na(data,'Total Bsmt SF')\n",
    "fill_na(data,'Garage Cars')\n",
    "fill_na(data,'Garage Area')#fills nulls for these columns\n",
    "for i in dummy_list:\n",
    "    fill_na(data,i)\n",
    "data['Garage Type'] = data['Garage Type'].astype('float64')\n",
    "data['Garage Cars'] = data['Garage Cars'].astype('float64')\n",
    "data['Garage Area'] = data['Garage Area'].astype('float64')#change type to float\n",
    "\n",
    "# filling in nans with values that proportianate to the rest of the data set"
   ]
  },
  {
   "cell_type": "code",
   "execution_count": 10,
   "metadata": {},
   "outputs": [
    {
     "data": {
      "image/png": "[encoded data removed]",
      "text/plain": [
       "<Figure size 432x288 with 1 Axes>"
      ]
     },
     "metadata": {
      "needs_background": "light"
     },
     "output_type": "display_data"
    }
   ],
   "source": [
    "plt.scatter(data['Gr Liv Area'], data['SalePrice'], c = \"blue\", marker = \"s\")\n",
    "plt.title(\"Looking for Outliers\")#  plot over 4k square foot outliers\n",
    "plt.xlabel(\"GrLivArea\")\n",
    "plt.ylabel(\"SalePrice\")\n",
    "plt.show()\n",
    "\n",
    "data = data[data['Gr Liv Area'] < 4000]\n",
    "data = data[data['Gr Liv Area'] < 4000]#remove these outliers\n",
    "\n",
    "\n",
    "\n"
   ]
  },
  {
   "cell_type": "code",
   "execution_count": 11,
   "metadata": {},
   "outputs": [
    {
     "data": {
      "text/html": [
       "<div>\n",
       "<style scoped>\n",
       "    .dataframe tbody tr th:only-of-type {\n",
       "        vertical-align: middle;\n",
       "    }\n",
       "\n",
       "    .dataframe tbody tr th {\n",
       "        vertical-align: top;\n",
       "    }\n",
       "\n",
       "    .dataframe thead th {\n",
       "        text-align: right;\n",
       "    }\n",
       "</style>\n",
       "<table border=\"1\" class=\"dataframe\">\n",
       "  <thead>\n",
       "    <tr style=\"text-align: right;\">\n",
       "      <th></th>\n",
       "      <th>Id</th>\n",
       "      <th>PID</th>\n",
       "      <th>MS SubClass</th>\n",
       "      <th>MS Zoning</th>\n",
       "      <th>Lot Frontage</th>\n",
       "      <th>Lot Area</th>\n",
       "      <th>Street</th>\n",
       "      <th>Alley</th>\n",
       "      <th>Lot Shape</th>\n",
       "      <th>Land Contour</th>\n",
       "      <th>...</th>\n",
       "      <th>Screen Porch</th>\n",
       "      <th>Pool Area</th>\n",
       "      <th>Pool QC</th>\n",
       "      <th>Fence</th>\n",
       "      <th>Misc Feature</th>\n",
       "      <th>Misc Val</th>\n",
       "      <th>Mo Sold</th>\n",
       "      <th>Yr Sold</th>\n",
       "      <th>Sale Type</th>\n",
       "      <th>SalePrice</th>\n",
       "    </tr>\n",
       "  </thead>\n",
       "  <tbody>\n",
       "    <tr>\n",
       "      <th>0</th>\n",
       "      <td>109</td>\n",
       "      <td>533352170</td>\n",
       "      <td>60</td>\n",
       "      <td>RL</td>\n",
       "      <td>69.0552</td>\n",
       "      <td>13517</td>\n",
       "      <td>Pave</td>\n",
       "      <td>0.0</td>\n",
       "      <td>3</td>\n",
       "      <td>Lvl</td>\n",
       "      <td>...</td>\n",
       "      <td>0</td>\n",
       "      <td>0</td>\n",
       "      <td>0.0</td>\n",
       "      <td>0</td>\n",
       "      <td>0.0</td>\n",
       "      <td>0</td>\n",
       "      <td>3</td>\n",
       "      <td>2010</td>\n",
       "      <td>WD</td>\n",
       "      <td>130500</td>\n",
       "    </tr>\n",
       "    <tr>\n",
       "      <th>1</th>\n",
       "      <td>544</td>\n",
       "      <td>531379050</td>\n",
       "      <td>60</td>\n",
       "      <td>RL</td>\n",
       "      <td>43.0000</td>\n",
       "      <td>11492</td>\n",
       "      <td>Pave</td>\n",
       "      <td>0.0</td>\n",
       "      <td>3</td>\n",
       "      <td>Lvl</td>\n",
       "      <td>...</td>\n",
       "      <td>0</td>\n",
       "      <td>0</td>\n",
       "      <td>0.0</td>\n",
       "      <td>0</td>\n",
       "      <td>0.0</td>\n",
       "      <td>0</td>\n",
       "      <td>4</td>\n",
       "      <td>2009</td>\n",
       "      <td>WD</td>\n",
       "      <td>220000</td>\n",
       "    </tr>\n",
       "    <tr>\n",
       "      <th>2</th>\n",
       "      <td>153</td>\n",
       "      <td>535304180</td>\n",
       "      <td>20</td>\n",
       "      <td>RL</td>\n",
       "      <td>68.0000</td>\n",
       "      <td>7922</td>\n",
       "      <td>Pave</td>\n",
       "      <td>0.0</td>\n",
       "      <td>4</td>\n",
       "      <td>Lvl</td>\n",
       "      <td>...</td>\n",
       "      <td>0</td>\n",
       "      <td>0</td>\n",
       "      <td>0.0</td>\n",
       "      <td>0</td>\n",
       "      <td>0.0</td>\n",
       "      <td>0</td>\n",
       "      <td>1</td>\n",
       "      <td>2010</td>\n",
       "      <td>WD</td>\n",
       "      <td>109000</td>\n",
       "    </tr>\n",
       "    <tr>\n",
       "      <th>3</th>\n",
       "      <td>318</td>\n",
       "      <td>916386060</td>\n",
       "      <td>60</td>\n",
       "      <td>RL</td>\n",
       "      <td>73.0000</td>\n",
       "      <td>9802</td>\n",
       "      <td>Pave</td>\n",
       "      <td>0.0</td>\n",
       "      <td>4</td>\n",
       "      <td>Lvl</td>\n",
       "      <td>...</td>\n",
       "      <td>0</td>\n",
       "      <td>0</td>\n",
       "      <td>0.0</td>\n",
       "      <td>0</td>\n",
       "      <td>0.0</td>\n",
       "      <td>0</td>\n",
       "      <td>4</td>\n",
       "      <td>2010</td>\n",
       "      <td>WD</td>\n",
       "      <td>174000</td>\n",
       "    </tr>\n",
       "    <tr>\n",
       "      <th>4</th>\n",
       "      <td>255</td>\n",
       "      <td>906425045</td>\n",
       "      <td>50</td>\n",
       "      <td>RL</td>\n",
       "      <td>82.0000</td>\n",
       "      <td>14235</td>\n",
       "      <td>Pave</td>\n",
       "      <td>0.0</td>\n",
       "      <td>3</td>\n",
       "      <td>Lvl</td>\n",
       "      <td>...</td>\n",
       "      <td>0</td>\n",
       "      <td>0</td>\n",
       "      <td>0.0</td>\n",
       "      <td>0</td>\n",
       "      <td>0.0</td>\n",
       "      <td>0</td>\n",
       "      <td>3</td>\n",
       "      <td>2010</td>\n",
       "      <td>WD</td>\n",
       "      <td>138500</td>\n",
       "    </tr>\n",
       "    <tr>\n",
       "      <th>...</th>\n",
       "      <td>...</td>\n",
       "      <td>...</td>\n",
       "      <td>...</td>\n",
       "      <td>...</td>\n",
       "      <td>...</td>\n",
       "      <td>...</td>\n",
       "      <td>...</td>\n",
       "      <td>...</td>\n",
       "      <td>...</td>\n",
       "      <td>...</td>\n",
       "      <td>...</td>\n",
       "      <td>...</td>\n",
       "      <td>...</td>\n",
       "      <td>...</td>\n",
       "      <td>...</td>\n",
       "      <td>...</td>\n",
       "      <td>...</td>\n",
       "      <td>...</td>\n",
       "      <td>...</td>\n",
       "      <td>...</td>\n",
       "      <td>...</td>\n",
       "    </tr>\n",
       "    <tr>\n",
       "      <th>2046</th>\n",
       "      <td>1587</td>\n",
       "      <td>921126030</td>\n",
       "      <td>20</td>\n",
       "      <td>RL</td>\n",
       "      <td>79.0000</td>\n",
       "      <td>11449</td>\n",
       "      <td>Pave</td>\n",
       "      <td>0.0</td>\n",
       "      <td>3</td>\n",
       "      <td>HLS</td>\n",
       "      <td>...</td>\n",
       "      <td>0</td>\n",
       "      <td>0</td>\n",
       "      <td>0.0</td>\n",
       "      <td>0</td>\n",
       "      <td>0.0</td>\n",
       "      <td>0</td>\n",
       "      <td>1</td>\n",
       "      <td>2008</td>\n",
       "      <td>WD</td>\n",
       "      <td>298751</td>\n",
       "    </tr>\n",
       "    <tr>\n",
       "      <th>2047</th>\n",
       "      <td>785</td>\n",
       "      <td>905377130</td>\n",
       "      <td>30</td>\n",
       "      <td>RL</td>\n",
       "      <td>69.0552</td>\n",
       "      <td>12342</td>\n",
       "      <td>Pave</td>\n",
       "      <td>0.0</td>\n",
       "      <td>3</td>\n",
       "      <td>Lvl</td>\n",
       "      <td>...</td>\n",
       "      <td>0</td>\n",
       "      <td>0</td>\n",
       "      <td>0.0</td>\n",
       "      <td>0</td>\n",
       "      <td>0.0</td>\n",
       "      <td>0</td>\n",
       "      <td>3</td>\n",
       "      <td>2009</td>\n",
       "      <td>WD</td>\n",
       "      <td>82500</td>\n",
       "    </tr>\n",
       "    <tr>\n",
       "      <th>2048</th>\n",
       "      <td>916</td>\n",
       "      <td>909253010</td>\n",
       "      <td>50</td>\n",
       "      <td>RL</td>\n",
       "      <td>57.0000</td>\n",
       "      <td>7558</td>\n",
       "      <td>Pave</td>\n",
       "      <td>0.0</td>\n",
       "      <td>4</td>\n",
       "      <td>Bnk</td>\n",
       "      <td>...</td>\n",
       "      <td>0</td>\n",
       "      <td>0</td>\n",
       "      <td>0.0</td>\n",
       "      <td>0</td>\n",
       "      <td>0.0</td>\n",
       "      <td>0</td>\n",
       "      <td>3</td>\n",
       "      <td>2009</td>\n",
       "      <td>WD</td>\n",
       "      <td>177000</td>\n",
       "    </tr>\n",
       "    <tr>\n",
       "      <th>2049</th>\n",
       "      <td>639</td>\n",
       "      <td>535179160</td>\n",
       "      <td>20</td>\n",
       "      <td>RL</td>\n",
       "      <td>80.0000</td>\n",
       "      <td>10400</td>\n",
       "      <td>Pave</td>\n",
       "      <td>0.0</td>\n",
       "      <td>4</td>\n",
       "      <td>Lvl</td>\n",
       "      <td>...</td>\n",
       "      <td>0</td>\n",
       "      <td>0</td>\n",
       "      <td>0.0</td>\n",
       "      <td>0</td>\n",
       "      <td>0.0</td>\n",
       "      <td>0</td>\n",
       "      <td>11</td>\n",
       "      <td>2009</td>\n",
       "      <td>WD</td>\n",
       "      <td>144000</td>\n",
       "    </tr>\n",
       "    <tr>\n",
       "      <th>2050</th>\n",
       "      <td>10</td>\n",
       "      <td>527162130</td>\n",
       "      <td>60</td>\n",
       "      <td>RL</td>\n",
       "      <td>60.0000</td>\n",
       "      <td>7500</td>\n",
       "      <td>Pave</td>\n",
       "      <td>0.0</td>\n",
       "      <td>4</td>\n",
       "      <td>Lvl</td>\n",
       "      <td>...</td>\n",
       "      <td>0</td>\n",
       "      <td>0</td>\n",
       "      <td>0.0</td>\n",
       "      <td>0</td>\n",
       "      <td>0.0</td>\n",
       "      <td>0</td>\n",
       "      <td>6</td>\n",
       "      <td>2010</td>\n",
       "      <td>WD</td>\n",
       "      <td>189000</td>\n",
       "    </tr>\n",
       "  </tbody>\n",
       "</table>\n",
       "<p>2049 rows × 81 columns</p>\n",
       "</div>"
      ],
      "text/plain": [
       "        Id        PID  MS SubClass MS Zoning  Lot Frontage  Lot Area Street  \\\n",
       "0      109  533352170           60        RL       69.0552     13517   Pave   \n",
       "1      544  531379050           60        RL       43.0000     11492   Pave   \n",
       "2      153  535304180           20        RL       68.0000      7922   Pave   \n",
       "3      318  916386060           60        RL       73.0000      9802   Pave   \n",
       "4      255  906425045           50        RL       82.0000     14235   Pave   \n",
       "...    ...        ...          ...       ...           ...       ...    ...   \n",
       "2046  1587  921126030           20        RL       79.0000     11449   Pave   \n",
       "2047   785  905377130           30        RL       69.0552     12342   Pave   \n",
       "2048   916  909253010           50        RL       57.0000      7558   Pave   \n",
       "2049   639  535179160           20        RL       80.0000     10400   Pave   \n",
       "2050    10  527162130           60        RL       60.0000      7500   Pave   \n",
       "\n",
       "      Alley  Lot Shape Land Contour  ...  Screen Porch Pool Area  Pool QC  \\\n",
       "0       0.0          3          Lvl  ...             0         0      0.0   \n",
       "1       0.0          3          Lvl  ...             0         0      0.0   \n",
       "2       0.0          4          Lvl  ...             0         0      0.0   \n",
       "3       0.0          4          Lvl  ...             0         0      0.0   \n",
       "4       0.0          3          Lvl  ...             0         0      0.0   \n",
       "...     ...        ...          ...  ...           ...       ...      ...   \n",
       "2046    0.0          3          HLS  ...             0         0      0.0   \n",
       "2047    0.0          3          Lvl  ...             0         0      0.0   \n",
       "2048    0.0          4          Bnk  ...             0         0      0.0   \n",
       "2049    0.0          4          Lvl  ...             0         0      0.0   \n",
       "2050    0.0          4          Lvl  ...             0         0      0.0   \n",
       "\n",
       "     Fence  Misc Feature  Misc Val  Mo Sold Yr Sold  Sale Type  SalePrice  \n",
       "0        0           0.0         0        3    2010        WD      130500  \n",
       "1        0           0.0         0        4    2009        WD      220000  \n",
       "2        0           0.0         0        1    2010        WD      109000  \n",
       "3        0           0.0         0        4    2010        WD      174000  \n",
       "4        0           0.0         0        3    2010        WD      138500  \n",
       "...    ...           ...       ...      ...     ...        ...        ...  \n",
       "2046     0           0.0         0        1    2008        WD      298751  \n",
       "2047     0           0.0         0        3    2009        WD       82500  \n",
       "2048     0           0.0         0        3    2009        WD      177000  \n",
       "2049     0           0.0         0       11    2009        WD      144000  \n",
       "2050     0           0.0         0        6    2010        WD      189000  \n",
       "\n",
       "[2049 rows x 81 columns]"
      ]
     },
     "execution_count": 11,
     "metadata": {},
     "output_type": "execute_result"
    }
   ],
   "source": [
    "corr_df = pd.DataFrame(data.corr()['SalePrice'])# split up over .5 correlation coefficient\n",
    "strong_pos = corr_df['SalePrice'] > .5\n",
    "data"
   ]
  },
  {
   "cell_type": "markdown",
   "metadata": {},
   "source": [
    "## EDA"
   ]
  },
  {
   "cell_type": "code",
   "execution_count": 12,
   "metadata": {},
   "outputs": [
    {
     "data": {
      "text/plain": [
       "Text(0.5, 1.0, 'Features With Correlation Above .5')"
      ]
     },
     "execution_count": 12,
     "metadata": {},
     "output_type": "execute_result"
    },
    {
     "data": {
      "image/png": "[encoded data removed]",
      "text/plain": [
       "<Figure size 1440x1080 with 2 Axes>"
      ]
     },
     "metadata": {},
     "output_type": "display_data"
    }
   ],
   "source": [
    "\n",
    "sns.set(style=\"white\")# plot strong coefficient values\n",
    "f, ax = plt.subplots(figsize=(20, 15))\n",
    "sns.heatmap(corr_df[strong_pos],annot=True,annot_kws={\"size\":15})\n",
    "plt.title('Features With Correlation Above .5',{'fontsize': 20})"
   ]
  },
  {
   "cell_type": "code",
   "execution_count": 13,
   "metadata": {},
   "outputs": [
    {
     "data": {
      "text/plain": [
       "<seaborn.axisgrid.PairGrid at 0x1a278de290>"
      ]
     },
     "execution_count": 13,
     "metadata": {},
     "output_type": "execute_result"
    },
    {
     "data": {
      "image/png": "[encoded data removed]",
      "text/plain": [
       "<Figure size 180x1440 with 8 Axes>"
      ]
     },
     "metadata": {},
     "output_type": "display_data"
    }
   ],
   "source": [
    "sns.pairplot(data, y_vars=['Overall Qual','Exter Qual','Kitchen Qual', 'Gr Liv Area','Garage Area','1st Flr SF','TotRms AbvGrd','TotRms AbvGrd'], x_vars=['SalePrice'])\n",
    "# plot hiogh correlation columns"
   ]
  },
  {
   "cell_type": "markdown",
   "metadata": {},
   "source": [
    "* These seem to follow positive linear relationship with price. These are good features to start with. \n",
    "* Possible outliers in some"
   ]
  },
  {
   "cell_type": "code",
   "execution_count": 15,
   "metadata": {},
   "outputs": [],
   "source": [
    "data['garage_score'] = data['Garage Qual'] * data['Garage Cond'] * data['Garage Qual'] * data['Garage Cond']# creating new features based on likely relationship\n",
    "data['basement_score'] = data['Bsmt Full Bath'] * data['Bsmt Half Bath'] * data['BsmtFin Type 2'] * data['BsmtFin SF 2'] * data['Bsmt Unf SF'] * data['Total Bsmt SF'] * data['Bsmt Qual'] * data['Bsmt Cond'] * data['Bsmt Exposure'] * data['BsmtFin Type 1'] * data['BsmtFin SF 1']\n",
    "data['bath_score'] = data['Full Bath'] * data['Half Bath']# creating new features based on likely relationship\n",
    "data['ext_score'] =  data['Exter Qual'] * data['Exter Cond']# creating new features based on likely relationship\n",
    "data['outdoor_score'] =  data['Paved Drive'] * data['Wood Deck SF'] * data['Open Porch SF'] * data['Enclosed Porch'] * data['3Ssn Porch'] * data['Screen Porch']"
   ]
  },
  {
   "cell_type": "code",
   "execution_count": null,
   "metadata": {},
   "outputs": [],
   "source": []
  },
  {
   "cell_type": "code",
   "execution_count": 16,
   "metadata": {},
   "outputs": [],
   "source": [
    "data['pool_score'] = data['Pool Area'] * data['Pool QC']# creating new features based on likely relationship\n",
    "data['fireplace_score'] = data['Fireplaces'] * data['Fireplace Qu']\n",
    "data['kitchen_score'] = data['Kitchen AbvGr'] * data['Kitchen Qual']# creating new features based on likely relationship\n",
    "data['misc_score'] = data['Misc Val'] * data['Misc Feature']\n",
    "data['land_score'] = data['Lot Frontage'] * data['Lot Area'] * data['Alley'] * data['Lot Shape'] * data['Utilities'] * data['Land Slope']\n",
    "data['quality_score'] = data['Overall Qual'] * data['Overall Cond'] * data['Kitchen Qual']   \n",
    "data['size_score']  = data['1st Flr SF'] * data['2nd Flr SF'] * data['Low Qual Fin SF'] * data['Gr Liv Area']# creating new features based on likely relationship\n",
    "for i in dummy_list:\n",
    "    fill_na(data,i)# fill in dummy list Nulls"
   ]
  },
  {
   "cell_type": "code",
   "execution_count": 17,
   "metadata": {},
   "outputs": [],
   "source": [
    "zoning_dummys = pd.get_dummies(data, columns = ['MS Zoning','Land Contour','Lot Config','Neighborhood','Condition 1','Condition 2','House Style','Roof Style','Roof Matl','Exterior 1st','Exterior 2nd','Mas Vnr Type','Foundation','Heating','Sale Type'], drop_first=True)\n",
    "data = pd.concat([data, zoning_dummys],axis=1)# get dummies and concatenate to DF\n",
    "data.fillna(0,inplace=True)z"
   ]
  },
  {
   "cell_type": "code",
   "execution_count": 18,
   "metadata": {},
   "outputs": [
    {
     "data": {
      "text/plain": [
       "(2049, 281)"
      ]
     },
     "execution_count": 18,
     "metadata": {},
     "output_type": "execute_result"
    }
   ],
   "source": [
    "data.shape"
   ]
  },
  {
   "cell_type": "code",
   "execution_count": 19,
   "metadata": {},
   "outputs": [],
   "source": [
    "data = data.drop_duplicates()# drop possible duplicates"
   ]
  },
  {
   "cell_type": "code",
   "execution_count": 20,
   "metadata": {},
   "outputs": [],
   "source": [
    "feat_list = data.drop(columns = ['SalePrice'])# drop target from features\n",
    "names = feat_list.select_dtypes(include ='number') \n",
    "first = list(names.columns)# get feature list\n"
   ]
  },
  {
   "cell_type": "code",
   "execution_count": 21,
   "metadata": {},
   "outputs": [
    {
     "data": {
      "text/plain": [
       "260"
      ]
     },
     "execution_count": 21,
     "metadata": {},
     "output_type": "execute_result"
    }
   ],
   "source": [
    "len(first)"
   ]
  },
  {
   "cell_type": "code",
   "execution_count": 22,
   "metadata": {},
   "outputs": [
    {
     "data": {
      "image/png": "[encoded data removed]",
      "text/plain": [
       "<Figure size 432x288 with 2 Axes>"
      ]
     },
     "metadata": {},
     "output_type": "display_data"
    }
   ],
   "source": [
    "sns.heatmap(pd.DataFrame(data.corr()['SalePrice']), cmap='coolwarm');# new features that are performing well to look out for"
   ]
  },
  {
   "cell_type": "markdown",
   "metadata": {},
   "source": [
    "These new features are adding correlation and performing well. These new features are worth keeping in the model."
   ]
  },
  {
   "cell_type": "markdown",
   "metadata": {},
   "source": [
    "## Modeling "
   ]
  },
  {
   "cell_type": "markdown",
   "metadata": {},
   "source": [
    "### Baseline Model"
   ]
  },
  {
   "cell_type": "code",
   "execution_count": null,
   "metadata": {},
   "outputs": [],
   "source": []
  },
  {
   "cell_type": "code",
   "execution_count": 23,
   "metadata": {},
   "outputs": [],
   "source": [
    "X = data[first]\n",
    "y = data[\"SalePrice\"]# split in to test and train sets\n",
    "\n",
    "X_train, X_test, y_train, y_test = train_test_split(X, y, random_state = RANDOM_STATE)"
   ]
  },
  {
   "cell_type": "code",
   "execution_count": 24,
   "metadata": {},
   "outputs": [],
   "source": [
    "X_train = X_train.loc[:,~X_train.columns.duplicated()]# erase duplicated colukns for each\n",
    "X_test = X_test.loc[:,~X_test.columns.duplicated()]"
   ]
  },
  {
   "cell_type": "code",
   "execution_count": 25,
   "metadata": {},
   "outputs": [
    {
     "name": "stdout",
     "output_type": "stream",
     "text": [
      "Baseline RMSE is SalePrice    79295.416281\n",
      "SalePrice    79295.416281\n",
      "dtype: float64\n"
     ]
    }
   ],
   "source": [
    "\n",
    "#mean_squared_error(y_train,y_train.mean())\n",
    "y_pred = y_train.mean()\n",
    "Baseline  = np.sqrt(((y-y_pred)**2).mean())\n",
    "\n",
    "print('Baseline RMSE is {}'.format(Baseline))# Get RMSE for baseline model"
   ]
  },
  {
   "cell_type": "markdown",
   "metadata": {},
   "source": [
    "Very high baseline RMSE should not be hard to beat"
   ]
  },
  {
   "cell_type": "markdown",
   "metadata": {},
   "source": [
    "### Linear Regression"
   ]
  },
  {
   "cell_type": "code",
   "execution_count": 27,
   "metadata": {},
   "outputs": [
    {
     "data": {
      "text/plain": [
       "LinearRegression(copy_X=True, fit_intercept=True, n_jobs=None, normalize=False)"
      ]
     },
     "execution_count": 27,
     "metadata": {},
     "output_type": "execute_result"
    }
   ],
   "source": [
    "lr = LinearRegression()\n",
    "lr.fit(X_test, y_test)\n",
    "\n",
    "lr.fit(X_train, y_train)# fit linear regression model"
   ]
  },
  {
   "cell_type": "code",
   "execution_count": 28,
   "metadata": {},
   "outputs": [],
   "source": [
    "y_train_preds = lr.predict(X_train)# generate preds"
   ]
  },
  {
   "cell_type": "code",
   "execution_count": 29,
   "metadata": {},
   "outputs": [
    {
     "name": "stdout",
     "output_type": "stream",
     "text": [
      "Training RMSE is SalePrice    20882.927959\n",
      "SalePrice    20882.927959\n",
      "dtype: float64\n"
     ]
    }
   ],
   "source": [
    "\n",
    "Baseline  = np.sqrt(((y_train_preds-y_train)**2).mean())\n",
    "\n",
    "print('Training RMSE is {}'.format(Baseline))# training score"
   ]
  },
  {
   "cell_type": "code",
   "execution_count": 30,
   "metadata": {},
   "outputs": [],
   "source": [
    "y_test_preds = lr.predict(X_test)"
   ]
  },
  {
   "cell_type": "code",
   "execution_count": 31,
   "metadata": {},
   "outputs": [
    {
     "name": "stdout",
     "output_type": "stream",
     "text": [
      "Test RMSE is SalePrice    23409.279323\n",
      "SalePrice    23409.279323\n",
      "dtype: float64\n"
     ]
    }
   ],
   "source": [
    "Baseline  = np.sqrt(((y_test_preds-y_test)**2).mean())\n",
    "\n",
    "print('Test RMSE is {}'.format(Baseline))# test score"
   ]
  },
  {
   "cell_type": "markdown",
   "metadata": {},
   "source": [
    "The model is significantly overfit, but is performing well given the amount of features"
   ]
  },
  {
   "cell_type": "code",
   "execution_count": 169,
   "metadata": {},
   "outputs": [],
   "source": [
    "resids = (y_test - y_test_preds)"
   ]
  },
  {
   "cell_type": "code",
   "execution_count": 173,
   "metadata": {},
   "outputs": [
    {
     "data": {
      "text/plain": [
       "Text(0, 0.5, 'Pred Values')"
      ]
     },
     "execution_count": 173,
     "metadata": {},
     "output_type": "execute_result"
    },
    {
     "data": {
      "image/png": "[encoded data removed]",
      "text/plain": [
       "<Figure size 432x288 with 1 Axes>"
      ]
     },
     "metadata": {},
     "output_type": "display_data"
    }
   ],
   "source": [
    "plt.scatter(y_test,y_test_preds)\n",
    "plt.xlabel('True Values')\n",
    "plt.ylabel('Pred Values')"
   ]
  },
  {
   "cell_type": "markdown",
   "metadata": {},
   "source": [
    "The values in the lower range seem to be more accurate but as values go up they become less so.\n",
    "Generally, the prediction is pretty spot on."
   ]
  },
  {
   "cell_type": "code",
   "execution_count": 174,
   "metadata": {},
   "outputs": [
    {
     "data": {
      "text/plain": [
       "0.8774895409605424"
      ]
     },
     "execution_count": 174,
     "metadata": {},
     "output_type": "execute_result"
    }
   ],
   "source": [
    "lr_scores = cross_val_score(lr, X_train, y_train, cv=3)\n",
    "lr_scores.mean()"
   ]
  },
  {
   "cell_type": "markdown",
   "metadata": {},
   "source": [
    "The model is accurate across many iterations of X_train and doesnt loss much r squared score "
   ]
  },
  {
   "cell_type": "markdown",
   "metadata": {},
   "source": [
    "### Scale"
   ]
  },
  {
   "cell_type": "code",
   "execution_count": 35,
   "metadata": {},
   "outputs": [],
   "source": [
    "sc = StandardScaler()\n",
    "Z_train = sc.fit_transform(X_train)\n",
    "Z_test = sc.transform(X_test)# We must scale the data nefore regularization"
   ]
  },
  {
   "cell_type": "markdown",
   "metadata": {},
   "source": [
    "### Ridge "
   ]
  },
  {
   "cell_type": "code",
   "execution_count": 36,
   "metadata": {},
   "outputs": [
    {
     "name": "stdout",
     "output_type": "stream",
     "text": [
      "0.9309729375919457\n",
      "0.9176828473625492\n"
     ]
    }
   ],
   "source": [
    "ridge_model = Ridge(alpha=10)\n",
    "\n",
    "# Fit.\n",
    "ridge_model.fit(Z_train, y_train)\n",
    "\n",
    "# Evaluate model using R2.\n",
    "print(ridge_model.score(Z_train, y_train))\n",
    "print(ridge_model.score(Z_test, y_test))\n"
   ]
  },
  {
   "cell_type": "markdown",
   "metadata": {},
   "source": [
    "These are very high score even without optimization"
   ]
  },
  {
   "cell_type": "code",
   "execution_count": 37,
   "metadata": {},
   "outputs": [],
   "source": [
    "from sklearn.linear_model import RidgeCV\n",
    "\n",
    "r_alphas = np.logspace(-10, 5, 100)# searhc this range for optimized alpha\n",
    "\n",
    "# Cross-validate over our list of ridge alphas.\n",
    "ridge_cv = RidgeCV(alphas=r_alphas, scoring='r2', cv=5)\n",
    "\n",
    "# Fit model using best ridge alpha!\n",
    "ridge_cv = ridge_model.fit(Z_train, y_train)"
   ]
  },
  {
   "cell_type": "code",
   "execution_count": 38,
   "metadata": {},
   "outputs": [
    {
     "data": {
      "text/plain": [
       "10"
      ]
     },
     "execution_count": 38,
     "metadata": {},
     "output_type": "execute_result"
    }
   ],
   "source": [
    "ridge_cv.alpha# optimized alpaha is 10"
   ]
  },
  {
   "cell_type": "code",
   "execution_count": 39,
   "metadata": {},
   "outputs": [
    {
     "name": "stdout",
     "output_type": "stream",
     "text": [
      "0.9309729375919457\n",
      "0.9176828473625492\n"
     ]
    }
   ],
   "source": [
    "print(ridge_cv.score(Z_train, y_train))\n",
    "print(ridge_cv.score(Z_test, y_test))\n",
    "# we already had the optimized alpha"
   ]
  },
  {
   "cell_type": "code",
   "execution_count": 40,
   "metadata": {},
   "outputs": [
    {
     "name": "stdout",
     "output_type": "stream",
     "text": [
      "Ridge Training RMSE is SalePrice    20996.850573\n",
      "SalePrice    20996.850573\n",
      "dtype: float64\n"
     ]
    }
   ],
   "source": [
    "ridge_pred = ridge_cv.predict(Z_train)\n",
    "\n",
    "Baseline  = np.sqrt(((ridge_pred-y_train)**2).mean())\n",
    "\n",
    "print('Ridge Training RMSE is {}'.format(Baseline))# training score"
   ]
  },
  {
   "cell_type": "code",
   "execution_count": 41,
   "metadata": {},
   "outputs": [
    {
     "name": "stdout",
     "output_type": "stream",
     "text": [
      "Ridge Test RMSE is SalePrice    22118.642329\n",
      "SalePrice    22118.642329\n",
      "dtype: float64\n"
     ]
    }
   ],
   "source": [
    "ridge_pred_test = ridge_cv.predict(Z_test)\n",
    "\n",
    "Baseline  = np.sqrt(((ridge_pred_test-y_test)**2).mean())\n",
    "\n",
    "print('Ridge Test RMSE is {}'.format(Baseline))# training score"
   ]
  },
  {
   "cell_type": "markdown",
   "metadata": {},
   "source": [
    "Our model is still overfit but is improving"
   ]
  },
  {
   "cell_type": "markdown",
   "metadata": {},
   "source": [
    "### Lasso"
   ]
  },
  {
   "cell_type": "code",
   "execution_count": 175,
   "metadata": {},
   "outputs": [
    {
     "data": {
      "text/plain": [
       "Lasso(alpha=1.0, copy_X=True, fit_intercept=True, max_iter=1000,\n",
       "      normalize=False, positive=False, precompute=False, random_state=None,\n",
       "      selection='cyclic', tol=0.0001, warm_start=False)"
      ]
     },
     "execution_count": 175,
     "metadata": {},
     "output_type": "execute_result"
    }
   ],
   "source": [
    "lasso_model = Lasso(1.0)\n",
    "\n",
    "# Fit.\n",
    "lasso_model.fit(Z_train, y_train)\n",
    "\n",
    "\n",
    "\n",
    "\n"
   ]
  },
  {
   "cell_type": "code",
   "execution_count": 176,
   "metadata": {},
   "outputs": [
    {
     "name": "stdout",
     "output_type": "stream",
     "text": [
      "Training RMSE is SalePrice    20881.90426\n",
      "SalePrice    20881.90426\n",
      "dtype: float64\n"
     ]
    }
   ],
   "source": [
    "lasso_pred_train = lasso_model.predict(Z_train)\n",
    "\n",
    "Baseline  = np.sqrt(((lasso_pred_train-y_train)**2).mean())\n",
    "\n",
    "print('Training RMSE is {}'.format(Baseline))# training score"
   ]
  },
  {
   "cell_type": "code",
   "execution_count": 177,
   "metadata": {},
   "outputs": [
    {
     "name": "stdout",
     "output_type": "stream",
     "text": [
      "LASSO RMSE is SalePrice    22981.207653\n",
      "SalePrice    22981.207653\n",
      "dtype: float64\n"
     ]
    }
   ],
   "source": [
    "lasso_pred_test = lasso_model.predict(Z_test)\n",
    "\n",
    "Baseline  = (np.sqrt(((lasso_pred_test-y_test)**2).mean()))\n",
    "\n",
    "print('LASSO RMSE is {}'.format(Baseline))# training score"
   ]
  },
  {
   "cell_type": "markdown",
   "metadata": {},
   "source": [
    "Our training RMSE was the best yet, but the test RMSE didnt beat the ridge one. \n"
   ]
  },
  {
   "cell_type": "markdown",
   "metadata": {},
   "source": [
    "## Model Selection"
   ]
  },
  {
   "cell_type": "markdown",
   "metadata": {},
   "source": [
    "The Ridge Model had the lowest RMSE, so we are choosing it."
   ]
  },
  {
   "cell_type": "markdown",
   "metadata": {},
   "source": [
    "## Model Evaluation"
   ]
  },
  {
   "cell_type": "code",
   "execution_count": 126,
   "metadata": {},
   "outputs": [
    {
     "data": {
      "image/png": "[encoded data removed]",
      "text/plain": [
       "<Figure size 432x288 with 1 Axes>"
      ]
     },
     "metadata": {},
     "output_type": "display_data"
    }
   ],
   "source": [
    "plt.scatter(ridge_pred_test, ridge_pred_test - y_test, c = \"orange\", marker = \"s\", label = \"Validation data\")\n",
    "plt.title(\"LR with Ridge Regularization, Resids Plot \",{'fontsize': 20}# plotting ridge resids plot \n",
    "         )\n",
    "plt.xlabel(\"Predicted values\")\n",
    "plt.ylabel(\"Residuals\")\n",
    "plt.xlim(0)\n",
    "plt.hlines(y = 0, xmin = 0, xmax = 500000, colors='r', linestyles='solid')\n",
    "\n",
    "plt.show()\n"
   ]
  },
  {
   "cell_type": "markdown",
   "metadata": {},
   "source": [
    "Mean is around zero which is what we are looking for. Independence of errors, no patterns."
   ]
  },
  {
   "cell_type": "code",
   "execution_count": 156,
   "metadata": {},
   "outputs": [
    {
     "data": {
      "text/plain": [
       "<matplotlib.legend.Legend at 0x1a2b155090>"
      ]
     },
     "execution_count": 156,
     "metadata": {},
     "output_type": "execute_result"
    },
    {
     "data": {
      "image/png": "[encoded data removed]",
      "text/plain": [
       "<Figure size 432x288 with 1 Axes>"
      ]
     },
     "metadata": {},
     "output_type": "display_data"
    }
   ],
   "source": [
    "plt.scatter(ridge_pred_test,y_test,c = \"orange\", marker = \"s\", label = \"Validation data\")\n",
    "plt.title(\"Linear regression with Ridge Regularization Preds Vs True\")\n",
    "plt.xlabel(\"Predicted values\")# plotting real vs true plot\n",
    "plt.ylabel(\"Real values\")\n",
    "plt.legend(loc = \"upper left\")\n",
    "\n",
    "\n"
   ]
  },
  {
   "cell_type": "code",
   "execution_count": null,
   "metadata": {},
   "outputs": [],
   "source": []
  },
  {
   "cell_type": "markdown",
   "metadata": {},
   "source": [
    "The real vs predicted values hold true with homoskedasticity of errors. "
   ]
  },
  {
   "cell_type": "code",
   "execution_count": 47,
   "metadata": {},
   "outputs": [
    {
     "data": {
      "text/plain": [
       "(-100000.0, 103870.70208214004)"
      ]
     },
     "execution_count": 47,
     "metadata": {},
     "output_type": "execute_result"
    },
    {
     "data": {
      "image/png": "[encoded data removed]",
      "text/plain": [
       "<Figure size 432x288 with 1 Axes>"
      ]
     },
     "metadata": {},
     "output_type": "display_data"
    }
   ],
   "source": [
    "sns.distplot(ridge_pred_test-y_test, kde=False, rug=True,bins=30,color= 'orange')\n",
    "plt.plot(figsize=(30,20))\n",
    "plt.title(\"Distribution of Errors\",{'fontsize': 20})\n",
    "plt.xlabel(\"Values in Bin\")\n",
    "plt.ylabel(\"Errors\")\n",
    "plt.xlim(-100000)\n",
    "\n"
   ]
  },
  {
   "cell_type": "markdown",
   "metadata": {},
   "source": [
    "Basically normal distribution of errors but a little skewed to the right shich falls in line woth other plots."
   ]
  },
  {
   "cell_type": "markdown",
   "metadata": {},
   "source": [
    "## Conclusion/ Reccomendations\n",
    "\n",
    " - When making models for the future, focus on subjective metrics like Overall Qual, Ext Quality, and Overal Cond, these have more of an effect than objective metrics like number of bedrooms or baths.\n",
    " - Also, the strategy of creating a lot of interaction columns and dummy variables and then using regularizatioin to scale it back has been succesfull and should be replicated.\n",
    " - The missing data strategy was also successful but has to be done in conjunction with the data dictionary.\n",
    " - Eliminate outliers in the target variable as these can cause the distribution to become skewed. This will result in in accurate predictions"
   ]
  },
  {
   "cell_type": "markdown",
   "metadata": {},
   "source": [
    "### Data Dictionary"
   ]
  },
  {
   "cell_type": "markdown",
   "metadata": {},
   "source": [
    " - http://jse.amstat.org/v19n3/decock/DataDocumentation.txt\n",
    "  "
   ]
  },
  {
   "cell_type": "markdown",
   "metadata": {},
   "source": [
    " ### References\n",
    " "
   ]
  },
  {
   "cell_type": "markdown",
   "metadata": {},
   "source": [
    "- http://jse.amstat.org/v19n3/decock/DataDocumentation.txt\n",
    "- http://jse.amstat.org/v19n3/decock.pdf"
   ]
  },
  {
   "cell_type": "markdown",
   "metadata": {},
   "source": [
    "### Kaggle Submission Area"
   ]
  },
  {
   "cell_type": "code",
   "execution_count": 48,
   "metadata": {},
   "outputs": [],
   "source": [
    "data = pd.read_csv(\"../datasets/test.csv\")"
   ]
  },
  {
   "cell_type": "code",
   "execution_count": 49,
   "metadata": {},
   "outputs": [
    {
     "data": {
      "text/plain": [
       "(878, 80)"
      ]
     },
     "execution_count": 49,
     "metadata": {},
     "output_type": "execute_result"
    }
   ],
   "source": [
    "data.shape\n",
    "# Kaggle Submission\n",
    "#Model workflow with validation or holdout set in order to submit"
   ]
  },
  {
   "cell_type": "code",
   "execution_count": null,
   "metadata": {},
   "outputs": [],
   "source": []
  },
  {
   "cell_type": "code",
   "execution_count": 50,
   "metadata": {},
   "outputs": [],
   "source": [
    "data['Lot Frontage'].fillna(data['Lot Frontage'].mean(),inplace = True)# fill missing lot frontage wth mean value\n",
    "\n",
    "\n",
    "\n",
    "data.replace({'Ex': 5,'Gd' : 4,'Ta': 3,'Fa': 2,'Po':1,'Na':0,'TA':3},inplace=True)\n",
    "\n",
    "data.replace({'GLQ': 6,'ALQ' : 5,'BLQ': 4,'Rec': 3,'LWQ':2,'LwQ':2,'Unf':1,'NA':0},inplace=True)\n",
    "\n",
    "data.replace({'Y': 4,'Av' : 3,'Mn': 2,'No': 1,'NA':0},inplace=True)"
   ]
  },
  {
   "cell_type": "code",
   "execution_count": 51,
   "metadata": {},
   "outputs": [
    {
     "data": {
      "text/plain": [
       "(878, 80)"
      ]
     },
     "execution_count": 51,
     "metadata": {},
     "output_type": "execute_result"
    }
   ],
   "source": [
    "data.shape"
   ]
  },
  {
   "cell_type": "code",
   "execution_count": 52,
   "metadata": {},
   "outputs": [],
   "source": [
    "data.replace({'Gd': 4,'Av' : 3,'Mn': 2,'No': 1,'NA':0},inplace=True)\n",
    "\n",
    "data.replace({'Fin': 4,'RFn' : 3,'Unf': 2,'NA':0},inplace=True)\n",
    "\n",
    "data.replace({'2Types': 4,'Detchd' : 3,'Basment': 2,'BuiltIn': 2,'Attchd':2,'CarPort':1,'NA':0},inplace=True)\n",
    "\n",
    "data.replace({'SBrkr':3,'FuseA':2,'FuseF':1,'FuseP':1,'Mix':2},inplace=True)   \n",
    "\n",
    "data['Street'].replace({'Grvl':2,'Pave':1,'NA':0})\n",
    "\n",
    "data.replace({'Y':2,'P':1,'N':0},inplace=True)\n",
    "\n",
    "data.replace({'Ex':4,'Gd':3,'TA':2,'Fa':1,'NA':0},inplace=True)"
   ]
  },
  {
   "cell_type": "code",
   "execution_count": 53,
   "metadata": {},
   "outputs": [
    {
     "data": {
      "text/plain": [
       "(878, 80)"
      ]
     },
     "execution_count": 53,
     "metadata": {},
     "output_type": "execute_result"
    }
   ],
   "source": [
    "data.shape"
   ]
  },
  {
   "cell_type": "code",
   "execution_count": 54,
   "metadata": {},
   "outputs": [],
   "source": [
    "data['Land Slope'].replace({'Gtl':3,'Mod':2,'Sev':1},inplace=True)\n",
    "data['Lot Shape'].replace({'Reg':4,'IR1':3,'IR2':2,'IR3':1},inplace=True)\n",
    "\n",
    "data['Utilities'].replace({'AllPub':2,'NoSewr':0,'NoSeWa':0},inplace=True)\n",
    "\n",
    "data['Functional'].replace({'Min2':2,'Min1':2,'Mod':1,'Maj1':0,'Maj2':0},inplace=True)\n",
    "\n",
    "data.replace({'Norm':2,'Feedr':1,'Artery':0,'RRAn':0,'PosN':3,'PosA':3,'RRAe':0,'RRNn':0,'RRNe':0},inplace=True)\n",
    "data.replace({'1Fam':3,'TwnhsE':1,'Duplex':1,'Twnhs':1,'2fmCon':1},inplace=True)\n",
    "data['Pool QC'].fillna(0,inplace=True)\n",
    "\n",
    "data['Misc Feature'].replace({'Elev':3,'Gar2':3,'Othr':1,'Shed':1,'TenC':2},inplace=True)\n",
    "\n",
    "data['Alley'].replace({'Grvl':1,'Pave':2},inplace=True)\n",
    "\n",
    "\n",
    "\n",
    "data['Alley'].fillna(0,inplace=True)\n",
    "data['Fireplace Qu'].fillna(0,inplace=True)\n",
    "\n",
    "data['Misc Feature'].fillna(0,inplace=True)\n",
    "\n",
    "data.replace({'GdPrv':3,'MnPrv':1,'GdWo':2,'MnWw':1,'NA':0})\n",
    "data['Fence'].fillna(0,inplace=True)\n",
    "#data = data[data['Gr Liv Area'] < 4000]\n",
    "dummy_list = ['MS Zoning','Land Contour','Lot Config','Neighborhood','Condition 1','Condition 2','House Style','Roof Style','Roof Matl','Exterior 1st','Exterior 2nd','Mas Vnr Type','Foundation','Heating','Sale Type']\n",
    "def fill_na(data,col):\n",
    "    dict_1 = dict(data[col].value_counts(normalize = True))\n",
    "    keys = list(dict_1.keys())\n",
    "    values = list(dict_1.values())\n",
    "    for k,v in dict_1.items():\n",
    "        data[col] = data[col].fillna(pd.Series(np.random.choice(keys,p=values, size=len(data))))\n",
    "\n",
    "fill_na(data,'Garage Cond')\n",
    "fill_na(data,'Garage Type')\n",
    "fill_na(data,'Garage Qual')\n",
    "fill_na(data,'Garage Finish')\n",
    "fill_na(data, 'Garage Yr Blt')\n",
    "fill_na(data,'Bsmt Exposure')\n",
    "fill_na(data,'BsmtFin Type 2')\n",
    "fill_na(data,'Bsmt Qual')\n",
    "fill_na(data,'Bsmt Cond')\n",
    "\n",
    "fill_na(data,'BsmtFin Type 1')\n",
    "fill_na(data,'Mas Vnr Type')\n",
    "fill_na(data,'Mas Vnr Area')\n",
    "fill_na(data,'Bsmt Full Bath')\n",
    "fill_na(data,'Bsmt Half Bath')\n",
    "fill_na(data,'BsmtFin SF 1')\n",
    "fill_na(data,'BsmtFin SF 2')\n",
    "fill_na(data,'Bsmt Unf SF')\n",
    "fill_na(data,'Total Bsmt SF')\n",
    "fill_na(data,'Garage Cars')\n",
    "fill_na(data,'Garage Area')\n",
    "for i in dummy_list:\n",
    "    fill_na(data,i)\n",
    "data['Garage Type'] = data['Garage Type'].astype('float64')\n",
    "data['Garage Cars'] = data['Garage Cars'].astype('float64')\n",
    "data['Garage Area'] = data['Garage Area'].astype('float64')"
   ]
  },
  {
   "cell_type": "code",
   "execution_count": 55,
   "metadata": {},
   "outputs": [],
   "source": [
    "data['garage_score'] = data['Garage Qual'] * data['Garage Cond'] * data['Garage Qual'] * data['Garage Cond'] * data['Garage Area'] * data['Garage Cars'] * data['Garage Yr Blt'] * data['Garage Finish']\n",
    "data['basement_score'] = data['Bsmt Full Bath'] * data['Bsmt Half Bath'] * data['BsmtFin Type 2'] * data['BsmtFin SF 2'] * data['Bsmt Unf SF'] * data['Total Bsmt SF'] * data['Bsmt Qual'] * data['Bsmt Cond'] * data['Bsmt Exposure'] * data['BsmtFin Type 1'] * data['BsmtFin SF 1']\n",
    "data['bath_score'] = data['Full Bath'] * data['Half Bath'] \n",
    "data['ext_score'] =  data['Exter Qual'] * data['Exter Cond']  \n",
    "data['outdoor_score'] =  data['Paved Drive'] * data['Wood Deck SF'] * data['Open Porch SF'] * data['Enclosed Porch'] * data['3Ssn Porch'] * data['Screen Porch']\n",
    "data['pool_score'] = data['Pool Area'] * data['Pool QC']\n",
    "data['fireplace_score'] = data['Fireplaces'] * data['Fireplace Qu']\n",
    "data['kitchen_score'] = data['Kitchen AbvGr'] * data['Kitchen Qual']\n",
    "data['misc_score'] = data['Misc Val'] * data['Misc Feature']\n",
    "data['land_score'] = data['Lot Frontage'] * data['Lot Area'] * data['Alley'] * data['Lot Shape'] * data['Utilities'] * data['Land Slope']\n",
    "data['quality_score'] = data['Overall Qual'] * data['Overall Cond'] \n",
    "data['size_score']  = data['1st Flr SF'] * data['2nd Flr SF'] * data['Low Qual Fin SF'] * data['Gr Liv Area']"
   ]
  },
  {
   "cell_type": "code",
   "execution_count": 56,
   "metadata": {},
   "outputs": [
    {
     "data": {
      "text/plain": [
       "(878, 92)"
      ]
     },
     "execution_count": 56,
     "metadata": {},
     "output_type": "execute_result"
    }
   ],
   "source": [
    "data.shape"
   ]
  },
  {
   "cell_type": "code",
   "execution_count": 57,
   "metadata": {},
   "outputs": [],
   "source": [
    "for i in dummy_list:\n",
    "    fill_na(data,i)\n",
    "data = pd.get_dummies(data, columns = ['MS Zoning','Land Contour','Lot Config','Neighborhood','Condition 1','Condition 2','House Style','Roof Style','Roof Matl','Exterior 1st','Exterior 2nd','Mas Vnr Type','Foundation','Heating','Sale Type'], drop_first=True)\n",
    "\n",
    "data.fillna(0,inplace=True)\n",
    "\n",
    "\n",
    "\n",
    "# this code is adpated from https://www.kaggle.com/juliencs/a-study-on-regression-applied-to-the-ames-dataset/notebook"
   ]
  },
  {
   "cell_type": "code",
   "execution_count": 58,
   "metadata": {},
   "outputs": [],
   "source": [
    "names = data.select_dtypes(include ='number') \n",
    "features  = names.columns"
   ]
  },
  {
   "cell_type": "code",
   "execution_count": 59,
   "metadata": {},
   "outputs": [],
   "source": [
    "# filter features\n",
    "filtered_val = data[features]\n"
   ]
  },
  {
   "cell_type": "code",
   "execution_count": 60,
   "metadata": {},
   "outputs": [
    {
     "data": {
      "text/plain": [
       "181"
      ]
     },
     "execution_count": 60,
     "metadata": {},
     "output_type": "execute_result"
    }
   ],
   "source": [
    "len(set(filtered_val.columns))"
   ]
  },
  {
   "cell_type": "code",
   "execution_count": 104,
   "metadata": {},
   "outputs": [],
   "source": [
    "X_list = list(X_train)\n",
    "val_list = list(filtered_val)"
   ]
  },
  {
   "cell_type": "code",
   "execution_count": 105,
   "metadata": {},
   "outputs": [],
   "source": [
    "for i in val_list:\n",
    "    if i not in X_list:\n",
    "        filtered_val.drop(columns = i,inplace=True)"
   ]
  },
  {
   "cell_type": "code",
   "execution_count": 106,
   "metadata": {},
   "outputs": [
    {
     "data": {
      "text/plain": [
       "(1536, 186)"
      ]
     },
     "execution_count": 106,
     "metadata": {},
     "output_type": "execute_result"
    }
   ],
   "source": [
    "X_train.shape"
   ]
  },
  {
   "cell_type": "code",
   "execution_count": 107,
   "metadata": {},
   "outputs": [
    {
     "data": {
      "text/plain": [
       "(878, 186)"
      ]
     },
     "execution_count": 107,
     "metadata": {},
     "output_type": "execute_result"
    }
   ],
   "source": [
    "filtered_val.shape"
   ]
  },
  {
   "cell_type": "code",
   "execution_count": 109,
   "metadata": {},
   "outputs": [],
   "source": [
    "\n",
    "preds = lr.predict(filtered_val)\n"
   ]
  },
  {
   "cell_type": "code",
   "execution_count": 110,
   "metadata": {},
   "outputs": [],
   "source": [
    "preds = preds.flatten()"
   ]
  },
  {
   "cell_type": "code",
   "execution_count": 111,
   "metadata": {},
   "outputs": [
    {
     "data": {
      "text/plain": [
       "array([ 8.62395009e+10,  8.62395009e+10, -2.46065242e+11, -2.46065242e+11,\n",
       "       -1.37536000e+11, -1.37536000e+11, -2.21538438e+10, -2.21538438e+10,\n",
       "       -1.62389947e+11, -1.62389947e+11])"
      ]
     },
     "execution_count": 111,
     "metadata": {},
     "output_type": "execute_result"
    }
   ],
   "source": [
    "preds[:10]"
   ]
  },
  {
   "cell_type": "code",
   "execution_count": 112,
   "metadata": {},
   "outputs": [],
   "source": [
    "\n",
    "# We need to submit to Kaggle in the appropriate form of .csv\n",
    "\n",
    "# create prediction Series\n",
    "preds_col = pd.Series(preds, name = \"SalePrice\")\n",
    "\n",
    "# combine with Id\n",
    "id_col    = data[\"Id\"]\n",
    "output = pd.concat([id_col, preds_col], axis = 1)\n"
   ]
  },
  {
   "cell_type": "code",
   "execution_count": 113,
   "metadata": {},
   "outputs": [
    {
     "data": {
      "text/plain": [
       "1756"
      ]
     },
     "execution_count": 113,
     "metadata": {},
     "output_type": "execute_result"
    }
   ],
   "source": [
    "len(output)"
   ]
  },
  {
   "cell_type": "code",
   "execution_count": 114,
   "metadata": {},
   "outputs": [],
   "source": [
    "output.to_csv(\"../output/submission.csv\",index=False)"
   ]
  },
  {
   "cell_type": "code",
   "execution_count": 115,
   "metadata": {},
   "outputs": [
    {
     "data": {
      "text/plain": [
       "(1756, 2)"
      ]
     },
     "execution_count": 115,
     "metadata": {},
     "output_type": "execute_result"
    }
   ],
   "source": [
    "output.shape"
   ]
  }
 ],
 "metadata": {
  "kernelspec": {
   "display_name": "Python 3",
   "language": "python",
   "name": "python3"
  },
  "language_info": {
   "codemirror_mode": {
    "name": "ipython",
    "version": 3
   },
   "file_extension": ".py",
   "mimetype": "text/x-python",
   "name": "python",
   "nbconvert_exporter": "python",
   "pygments_lexer": "ipython3",
   "version": "3.7.4"
  }
 },
 "nbformat": 4,
 "nbformat_minor": 2
}
